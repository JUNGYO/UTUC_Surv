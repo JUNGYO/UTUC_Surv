{
 "cells": [
  {
   "cell_type": "code",
   "execution_count": 8,
   "metadata": {},
   "outputs": [],
   "source": [
    "import streamlit as st\n",
    "import pickle\n",
    "import pandas as pd\n",
    "import plotly.graph_objects as go\n",
    "import warnings\n",
    "import os"
   ]
  },
  {
   "cell_type": "code",
   "execution_count": 26,
   "metadata": {},
   "outputs": [],
   "source": [
    "datapath = './data'\n",
    "model_path = './save/'\n",
    "\n",
    "## data\n",
    "data = pd.read_csv(os.path.join(datapath+'/'+'UTUC_deep.csv'))\n",
    "ext_Hallym = pd.read_csv(os.path.join(datapath+'/'+'UTUC_deep_Hallym.csv'))\n",
    "ext_SNU = pd.read_csv(os.path.join(datapath+'/'+'UTUC_deep_SNU.csv'))\n",
    "\n",
    "train_data = pd.read_csv(os.path.join(model_path+'/'+'train_data.csv'))\n",
    "test_data = pd.read_csv(os.path.join(model_path+'/'+'test_data.csv'))\n",
    "valid_data = pd.read_csv(os.path.join(model_path+'/'+'valid_data.csv'))\n",
    "\n",
    "\n"
   ]
  },
  {
   "cell_type": "code",
   "execution_count": 22,
   "metadata": {},
   "outputs": [],
   "source": [
    "def load_model(model_path):\n",
    "    with open(model_path, 'rb') as f:\n",
    "        model = pickle.load(f)\n",
    "    return model\n",
    "\n",
    "PFS_model = load_model('./save/UTUC_PFS.pkl')\n",
    "CSS_model = load_model('./save/UTUC_CSS.pkl')\n"
   ]
  },
  {
   "cell_type": "code",
   "execution_count": 32,
   "metadata": {},
   "outputs": [],
   "source": [
    "input = ['Age', 'Female', 'BMI', 'Pre_GFR','Location_Pelvis', 'Location_multiple', 'HUN', 'path_T', 'Path_N','Path_Grade',\"Path_CIS\"]"
   ]
  },
  {
   "cell_type": "code",
   "execution_count": 36,
   "metadata": {},
   "outputs": [
    {
     "data": {
      "text/html": [
       "<style>#sk-container-id-2 {color: black;background-color: white;}#sk-container-id-2 pre{padding: 0;}#sk-container-id-2 div.sk-toggleable {background-color: white;}#sk-container-id-2 label.sk-toggleable__label {cursor: pointer;display: block;width: 100%;margin-bottom: 0;padding: 0.3em;box-sizing: border-box;text-align: center;}#sk-container-id-2 label.sk-toggleable__label-arrow:before {content: \"▸\";float: left;margin-right: 0.25em;color: #696969;}#sk-container-id-2 label.sk-toggleable__label-arrow:hover:before {color: black;}#sk-container-id-2 div.sk-estimator:hover label.sk-toggleable__label-arrow:before {color: black;}#sk-container-id-2 div.sk-toggleable__content {max-height: 0;max-width: 0;overflow: hidden;text-align: left;background-color: #f0f8ff;}#sk-container-id-2 div.sk-toggleable__content pre {margin: 0.2em;color: black;border-radius: 0.25em;background-color: #f0f8ff;}#sk-container-id-2 input.sk-toggleable__control:checked~div.sk-toggleable__content {max-height: 200px;max-width: 100%;overflow: auto;}#sk-container-id-2 input.sk-toggleable__control:checked~label.sk-toggleable__label-arrow:before {content: \"▾\";}#sk-container-id-2 div.sk-estimator input.sk-toggleable__control:checked~label.sk-toggleable__label {background-color: #d4ebff;}#sk-container-id-2 div.sk-label input.sk-toggleable__control:checked~label.sk-toggleable__label {background-color: #d4ebff;}#sk-container-id-2 input.sk-hidden--visually {border: 0;clip: rect(1px 1px 1px 1px);clip: rect(1px, 1px, 1px, 1px);height: 1px;margin: -1px;overflow: hidden;padding: 0;position: absolute;width: 1px;}#sk-container-id-2 div.sk-estimator {font-family: monospace;background-color: #f0f8ff;border: 1px dotted black;border-radius: 0.25em;box-sizing: border-box;margin-bottom: 0.5em;}#sk-container-id-2 div.sk-estimator:hover {background-color: #d4ebff;}#sk-container-id-2 div.sk-parallel-item::after {content: \"\";width: 100%;border-bottom: 1px solid gray;flex-grow: 1;}#sk-container-id-2 div.sk-label:hover label.sk-toggleable__label {background-color: #d4ebff;}#sk-container-id-2 div.sk-serial::before {content: \"\";position: absolute;border-left: 1px solid gray;box-sizing: border-box;top: 0;bottom: 0;left: 50%;z-index: 0;}#sk-container-id-2 div.sk-serial {display: flex;flex-direction: column;align-items: center;background-color: white;padding-right: 0.2em;padding-left: 0.2em;position: relative;}#sk-container-id-2 div.sk-item {position: relative;z-index: 1;}#sk-container-id-2 div.sk-parallel {display: flex;align-items: stretch;justify-content: center;background-color: white;position: relative;}#sk-container-id-2 div.sk-item::before, #sk-container-id-2 div.sk-parallel-item::before {content: \"\";position: absolute;border-left: 1px solid gray;box-sizing: border-box;top: 0;bottom: 0;left: 50%;z-index: -1;}#sk-container-id-2 div.sk-parallel-item {display: flex;flex-direction: column;z-index: 1;position: relative;background-color: white;}#sk-container-id-2 div.sk-parallel-item:first-child::after {align-self: flex-end;width: 50%;}#sk-container-id-2 div.sk-parallel-item:last-child::after {align-self: flex-start;width: 50%;}#sk-container-id-2 div.sk-parallel-item:only-child::after {width: 0;}#sk-container-id-2 div.sk-dashed-wrapped {border: 1px dashed gray;margin: 0 0.4em 0.5em 0.4em;box-sizing: border-box;padding-bottom: 0.4em;background-color: white;}#sk-container-id-2 div.sk-label label {font-family: monospace;font-weight: bold;display: inline-block;line-height: 1.2em;}#sk-container-id-2 div.sk-label-container {text-align: center;}#sk-container-id-2 div.sk-container {/* jupyter's `normalize.less` sets `[hidden] { display: none; }` but bootstrap.min.css set `[hidden] { display: none !important; }` so we also need the `!important` here to be able to override the default hidden behavior on the sphinx rendered scikit-learn.org. See: https://github.com/scikit-learn/scikit-learn/issues/21755 */display: inline-block !important;position: relative;}#sk-container-id-2 div.sk-text-repr-fallback {display: none;}</style><div id=\"sk-container-id-2\" class=\"sk-top-container\"><div class=\"sk-text-repr-fallback\"><pre>XGBSEStackedWeibull(weibull_params={&#x27;penalizer&#x27;: 0.001},\n",
       "                    xgb_params={&#x27;aft_loss_distribution&#x27;: &#x27;logistic&#x27;,\n",
       "                                &#x27;aft_loss_distribution_scale&#x27;: 0.702867767678822,\n",
       "                                &#x27;alpha&#x27;: 0.29852696585541644,\n",
       "                                &#x27;colsample_bylevel&#x27;: 0.7930262106497282,\n",
       "                                &#x27;colsample_bynode&#x27;: 0.8893952712022207,\n",
       "                                &#x27;colsample_bytree&#x27;: 0.9540715723474851,\n",
       "                                &#x27;eval_metric&#x27;: &#x27;aft-nloglik&#x27;,\n",
       "                                &#x27;lambda&#x27;: 0.06658560694599276,\n",
       "                                &#x27;learning_rate&#x27;: 0.09843239367970565,\n",
       "                                &#x27;max_depth&#x27;: 7,\n",
       "                                &#x27;min_child_weight&#x27;: 5.1463959130306405,\n",
       "                                &#x27;objective&#x27;: &#x27;survival:aft&#x27;,\n",
       "                                &#x27;scale_pos_weight&#x27;: 2.9375,\n",
       "                                &#x27;subsample&#x27;: 0.8968177582362484,\n",
       "                                &#x27;verbosity&#x27;: 0})</pre><b>In a Jupyter environment, please rerun this cell to show the HTML representation or trust the notebook. <br />On GitHub, the HTML representation is unable to render, please try loading this page with nbviewer.org.</b></div><div class=\"sk-container\" hidden><div class=\"sk-item\"><div class=\"sk-estimator sk-toggleable\"><input class=\"sk-toggleable__control sk-hidden--visually\" id=\"sk-estimator-id-4\" type=\"checkbox\" checked><label for=\"sk-estimator-id-4\" class=\"sk-toggleable__label sk-toggleable__label-arrow\">XGBSEStackedWeibull</label><div class=\"sk-toggleable__content\"><pre>XGBSEStackedWeibull(weibull_params={&#x27;penalizer&#x27;: 0.001},\n",
       "                    xgb_params={&#x27;aft_loss_distribution&#x27;: &#x27;logistic&#x27;,\n",
       "                                &#x27;aft_loss_distribution_scale&#x27;: 0.702867767678822,\n",
       "                                &#x27;alpha&#x27;: 0.29852696585541644,\n",
       "                                &#x27;colsample_bylevel&#x27;: 0.7930262106497282,\n",
       "                                &#x27;colsample_bynode&#x27;: 0.8893952712022207,\n",
       "                                &#x27;colsample_bytree&#x27;: 0.9540715723474851,\n",
       "                                &#x27;eval_metric&#x27;: &#x27;aft-nloglik&#x27;,\n",
       "                                &#x27;lambda&#x27;: 0.06658560694599276,\n",
       "                                &#x27;learning_rate&#x27;: 0.09843239367970565,\n",
       "                                &#x27;max_depth&#x27;: 7,\n",
       "                                &#x27;min_child_weight&#x27;: 5.1463959130306405,\n",
       "                                &#x27;objective&#x27;: &#x27;survival:aft&#x27;,\n",
       "                                &#x27;scale_pos_weight&#x27;: 2.9375,\n",
       "                                &#x27;subsample&#x27;: 0.8968177582362484,\n",
       "                                &#x27;verbosity&#x27;: 0})</pre></div></div></div></div></div>"
      ],
      "text/plain": [
       "XGBSEStackedWeibull(weibull_params={'penalizer': 0.001},\n",
       "                    xgb_params={'aft_loss_distribution': 'logistic',\n",
       "                                'aft_loss_distribution_scale': 0.702867767678822,\n",
       "                                'alpha': 0.29852696585541644,\n",
       "                                'colsample_bylevel': 0.7930262106497282,\n",
       "                                'colsample_bynode': 0.8893952712022207,\n",
       "                                'colsample_bytree': 0.9540715723474851,\n",
       "                                'eval_metric': 'aft-nloglik',\n",
       "                                'lambda': 0.06658560694599276,\n",
       "                                'learning_rate': 0.09843239367970565,\n",
       "                                'max_depth': 7,\n",
       "                                'min_child_weight': 5.1463959130306405,\n",
       "                                'objective': 'survival:aft',\n",
       "                                'scale_pos_weight': 2.9375,\n",
       "                                'subsample': 0.8968177582362484,\n",
       "                                'verbosity': 0})"
      ]
     },
     "execution_count": 36,
     "metadata": {},
     "output_type": "execute_result"
    }
   ],
   "source": [
    "PFS_model.base_estimator"
   ]
  },
  {
   "cell_type": "code",
   "execution_count": 46,
   "metadata": {},
   "outputs": [],
   "source": [
    "import lime\n",
    "from lime.lime_tabular import LimeTabularExplainer\n",
    "\n",
    "explainer = LimeTabularExplainer(\n",
    "    train_data.values, \n",
    "    mode='regression',\n",
    "    feature_names=train_data.columns.tolist(),\n",
    "    class_names=['survival_probability'],\n",
    "    verbose=True, \n",
    "    discretize_continuous=False\n",
    ")\n",
    "\n",
    "def predict_fn(data_array):\n",
    "    return PFS_model.predict(data_array)\n",
    "\n"
   ]
  },
  {
   "cell_type": "code",
   "execution_count": 59,
   "metadata": {},
   "outputs": [],
   "source": [
    "x = train_data[input].dropna()"
   ]
  },
  {
   "cell_type": "code",
   "execution_count": 61,
   "metadata": {},
   "outputs": [
    {
     "data": {
      "text/plain": [
       "array([75.        ,  1.        , 22.2       , 57.45303809,  0.        ,\n",
       "        1.        ,  0.        ,  3.        ,  0.        ,  1.        ,\n",
       "        1.        ])"
      ]
     },
     "execution_count": 61,
     "metadata": {},
     "output_type": "execute_result"
    }
   ],
   "source": [
    "x.values[i]"
   ]
  },
  {
   "cell_type": "code",
   "execution_count": 65,
   "metadata": {},
   "outputs": [],
   "source": [
    "import numpy as np\n",
    "from lime.lime_tabular import LimeTabularExplainer\n"
   ]
  },
  {
   "cell_type": "code",
   "execution_count": 66,
   "metadata": {},
   "outputs": [],
   "source": [
    "def predict_fn(data):\n",
    "    # Ensure the data has the right shape for prediction\n",
    "    reshaped_data = data.reshape(1, -1) if len(data.shape) == 1 else data\n",
    "    predictions = PFS_model.predict(reshaped_data)\n",
    "    return predictions\n"
   ]
  },
  {
   "cell_type": "code",
   "execution_count": 82,
   "metadata": {},
   "outputs": [],
   "source": [
    "# Assuming `x` is your dataset and `input` is the list of feature names\n",
    "training_data = x.values\n",
    "feature_names = input\n",
    "\n",
    "# Setup the LIME explainer\n",
    "explainer = LimeTabularExplainer(training_data, \n",
    "                                 feature_names=feature_names, \n",
    "                                 class_names=[\"Prediction\"], \n",
    "                                 discretize_continuous=True)\n"
   ]
  },
  {
   "cell_type": "code",
   "execution_count": 79,
   "metadata": {},
   "outputs": [
    {
     "ename": "ValueError",
     "evalue": "training data did not have the following fields: Age, Female, BMI, Pre_GFR, Location_Pelvis, Location_multiple, HUN, path_T, Path_N, Path_Grade, Path_CIS",
     "output_type": "error",
     "traceback": [
      "\u001b[1;31m---------------------------------------------------------------------------\u001b[0m",
      "\u001b[1;31mValueError\u001b[0m                                Traceback (most recent call last)",
      "\u001b[1;32md:\\00. UTUC_surv\\UTUC_Surv\\Model_explain.ipynb Cell 12\u001b[0m line \u001b[0;36m3\n\u001b[0;32m      <a href='vscode-notebook-cell:/d%3A/00.%20UTUC_surv/UTUC_Surv/Model_explain.ipynb#X21sZmlsZQ%3D%3D?line=0'>1</a>\u001b[0m i \u001b[39m=\u001b[39m \u001b[39m0\u001b[39m  \u001b[39m# Example index, make sure this is within the range of your dataset\u001b[39;00m\n\u001b[0;32m      <a href='vscode-notebook-cell:/d%3A/00.%20UTUC_surv/UTUC_Surv/Model_explain.ipynb#X21sZmlsZQ%3D%3D?line=1'>2</a>\u001b[0m instance \u001b[39m=\u001b[39m x\u001b[39m.\u001b[39mvalues[i]\n\u001b[1;32m----> <a href='vscode-notebook-cell:/d%3A/00.%20UTUC_surv/UTUC_Surv/Model_explain.ipynb#X21sZmlsZQ%3D%3D?line=2'>3</a>\u001b[0m exp \u001b[39m=\u001b[39m explainer\u001b[39m.\u001b[39mexplain_instance(instance, predict_fn)\n",
      "File \u001b[1;32mc:\\Users\\JUN\\anaconda3\\Lib\\site-packages\\lime\\lime_tabular.py:355\u001b[0m, in \u001b[0;36mLimeTabularExplainer.explain_instance\u001b[1;34m(self, data_row, predict_fn, labels, top_labels, num_features, num_samples, distance_metric, model_regressor)\u001b[0m\n\u001b[0;32m    348\u001b[0m     scaled_data \u001b[39m=\u001b[39m (data \u001b[39m-\u001b[39m \u001b[39mself\u001b[39m\u001b[39m.\u001b[39mscaler\u001b[39m.\u001b[39mmean_) \u001b[39m/\u001b[39m \u001b[39mself\u001b[39m\u001b[39m.\u001b[39mscaler\u001b[39m.\u001b[39mscale_\n\u001b[0;32m    349\u001b[0m distances \u001b[39m=\u001b[39m sklearn\u001b[39m.\u001b[39mmetrics\u001b[39m.\u001b[39mpairwise_distances(\n\u001b[0;32m    350\u001b[0m         scaled_data,\n\u001b[0;32m    351\u001b[0m         scaled_data[\u001b[39m0\u001b[39m]\u001b[39m.\u001b[39mreshape(\u001b[39m1\u001b[39m, \u001b[39m-\u001b[39m\u001b[39m1\u001b[39m),\n\u001b[0;32m    352\u001b[0m         metric\u001b[39m=\u001b[39mdistance_metric\n\u001b[0;32m    353\u001b[0m )\u001b[39m.\u001b[39mravel()\n\u001b[1;32m--> 355\u001b[0m yss \u001b[39m=\u001b[39m predict_fn(inverse)\n\u001b[0;32m    357\u001b[0m \u001b[39m# for classification, the model needs to provide a list of tuples - classes\u001b[39;00m\n\u001b[0;32m    358\u001b[0m \u001b[39m# along with prediction probabilities\u001b[39;00m\n\u001b[0;32m    359\u001b[0m \u001b[39mif\u001b[39;00m \u001b[39mself\u001b[39m\u001b[39m.\u001b[39mmode \u001b[39m==\u001b[39m \u001b[39m\"\u001b[39m\u001b[39mclassification\u001b[39m\u001b[39m\"\u001b[39m:\n",
      "\u001b[1;32md:\\00. UTUC_surv\\UTUC_Surv\\Model_explain.ipynb Cell 12\u001b[0m line \u001b[0;36m4\n\u001b[0;32m      <a href='vscode-notebook-cell:/d%3A/00.%20UTUC_surv/UTUC_Surv/Model_explain.ipynb#X21sZmlsZQ%3D%3D?line=0'>1</a>\u001b[0m \u001b[39mdef\u001b[39;00m \u001b[39mpredict_fn\u001b[39m(data):\n\u001b[0;32m      <a href='vscode-notebook-cell:/d%3A/00.%20UTUC_surv/UTUC_Surv/Model_explain.ipynb#X21sZmlsZQ%3D%3D?line=1'>2</a>\u001b[0m     \u001b[39m# Ensure the data has the right shape for prediction\u001b[39;00m\n\u001b[0;32m      <a href='vscode-notebook-cell:/d%3A/00.%20UTUC_surv/UTUC_Surv/Model_explain.ipynb#X21sZmlsZQ%3D%3D?line=2'>3</a>\u001b[0m     reshaped_data \u001b[39m=\u001b[39m data\u001b[39m.\u001b[39mreshape(\u001b[39m1\u001b[39m, \u001b[39m-\u001b[39m\u001b[39m1\u001b[39m) \u001b[39mif\u001b[39;00m \u001b[39mlen\u001b[39m(data\u001b[39m.\u001b[39mshape) \u001b[39m==\u001b[39m \u001b[39m1\u001b[39m \u001b[39melse\u001b[39;00m data\n\u001b[1;32m----> <a href='vscode-notebook-cell:/d%3A/00.%20UTUC_surv/UTUC_Surv/Model_explain.ipynb#X21sZmlsZQ%3D%3D?line=3'>4</a>\u001b[0m     predictions \u001b[39m=\u001b[39m PFS_model\u001b[39m.\u001b[39mpredict(reshaped_data)\n\u001b[0;32m      <a href='vscode-notebook-cell:/d%3A/00.%20UTUC_surv/UTUC_Surv/Model_explain.ipynb#X21sZmlsZQ%3D%3D?line=4'>5</a>\u001b[0m     \u001b[39mreturn\u001b[39;00m predictions\n",
      "File \u001b[1;32mc:\\Users\\JUN\\anaconda3\\Lib\\site-packages\\xgbse\\_meta.py:94\u001b[0m, in \u001b[0;36mXGBSEBootstrapEstimator.predict\u001b[1;34m(self, X, return_ci, ci_width, return_interval_probs)\u001b[0m\n\u001b[0;32m     90\u001b[0m preds_list \u001b[39m=\u001b[39m []\n\u001b[0;32m     92\u001b[0m \u001b[39mfor\u001b[39;00m estimator \u001b[39min\u001b[39;00m \u001b[39mself\u001b[39m\u001b[39m.\u001b[39mestimators_:\n\u001b[1;32m---> 94\u001b[0m     temp_preds \u001b[39m=\u001b[39m estimator\u001b[39m.\u001b[39mpredict(\n\u001b[0;32m     95\u001b[0m         X, return_interval_probs\u001b[39m=\u001b[39mreturn_interval_probs\n\u001b[0;32m     96\u001b[0m     )\n\u001b[0;32m     97\u001b[0m     preds_list\u001b[39m.\u001b[39mappend(temp_preds)\n\u001b[0;32m     99\u001b[0m agg_preds \u001b[39m=\u001b[39m pd\u001b[39m.\u001b[39mconcat(preds_list)\n",
      "File \u001b[1;32mc:\\Users\\JUN\\anaconda3\\Lib\\site-packages\\xgbse\\_stacked_weibull.py:229\u001b[0m, in \u001b[0;36mXGBSEStackedWeibull.predict\u001b[1;34m(self, X, return_interval_probs)\u001b[0m\n\u001b[0;32m    226\u001b[0m d_matrix \u001b[39m=\u001b[39m xgb\u001b[39m.\u001b[39mDMatrix(X)\n\u001b[0;32m    228\u001b[0m \u001b[39m# getting leaves and extracting neighbors\u001b[39;00m\n\u001b[1;32m--> 229\u001b[0m risk \u001b[39m=\u001b[39m \u001b[39mself\u001b[39m\u001b[39m.\u001b[39mbst\u001b[39m.\u001b[39mpredict(\n\u001b[0;32m    230\u001b[0m     d_matrix, iteration_range\u001b[39m=\u001b[39m(\u001b[39m0\u001b[39m, \u001b[39mself\u001b[39m\u001b[39m.\u001b[39mbst\u001b[39m.\u001b[39mbest_iteration \u001b[39m+\u001b[39m \u001b[39m1\u001b[39m)\n\u001b[0;32m    231\u001b[0m )\n\u001b[0;32m    232\u001b[0m weibull_score_df \u001b[39m=\u001b[39m pd\u001b[39m.\u001b[39mDataFrame({\u001b[39m\"\u001b[39m\u001b[39mrisk\u001b[39m\u001b[39m\"\u001b[39m: risk})\n\u001b[0;32m    234\u001b[0m \u001b[39m# predicting from logistic regression artifacts\u001b[39;00m\n",
      "File \u001b[1;32mc:\\Users\\JUN\\anaconda3\\Lib\\site-packages\\xgboost\\core.py:2137\u001b[0m, in \u001b[0;36mBooster.predict\u001b[1;34m(self, data, output_margin, ntree_limit, pred_leaf, pred_contribs, approx_contribs, pred_interactions, validate_features, training, iteration_range, strict_shape)\u001b[0m\n\u001b[0;32m   2135\u001b[0m     \u001b[39mraise\u001b[39;00m \u001b[39mTypeError\u001b[39;00m(\u001b[39m'\u001b[39m\u001b[39mExpecting data to be a DMatrix object, got: \u001b[39m\u001b[39m'\u001b[39m, \u001b[39mtype\u001b[39m(data))\n\u001b[0;32m   2136\u001b[0m \u001b[39mif\u001b[39;00m validate_features:\n\u001b[1;32m-> 2137\u001b[0m     \u001b[39mself\u001b[39m\u001b[39m.\u001b[39m_validate_dmatrix_features(data)\n\u001b[0;32m   2138\u001b[0m iteration_range \u001b[39m=\u001b[39m _convert_ntree_limit(\u001b[39mself\u001b[39m, ntree_limit, iteration_range)\n\u001b[0;32m   2139\u001b[0m args \u001b[39m=\u001b[39m {\n\u001b[0;32m   2140\u001b[0m     \u001b[39m\"\u001b[39m\u001b[39mtype\u001b[39m\u001b[39m\"\u001b[39m: \u001b[39m0\u001b[39m,\n\u001b[0;32m   2141\u001b[0m     \u001b[39m\"\u001b[39m\u001b[39mtraining\u001b[39m\u001b[39m\"\u001b[39m: training,\n\u001b[1;32m   (...)\u001b[0m\n\u001b[0;32m   2144\u001b[0m     \u001b[39m\"\u001b[39m\u001b[39mstrict_shape\u001b[39m\u001b[39m\"\u001b[39m: strict_shape,\n\u001b[0;32m   2145\u001b[0m }\n",
      "File \u001b[1;32mc:\\Users\\JUN\\anaconda3\\Lib\\site-packages\\xgboost\\core.py:2747\u001b[0m, in \u001b[0;36mBooster._validate_dmatrix_features\u001b[1;34m(self, data)\u001b[0m\n\u001b[0;32m   2744\u001b[0m \u001b[39mif\u001b[39;00m \u001b[39mself\u001b[39m\u001b[39m.\u001b[39mfeature_types \u001b[39mis\u001b[39;00m \u001b[39mNone\u001b[39;00m:\n\u001b[0;32m   2745\u001b[0m     \u001b[39mself\u001b[39m\u001b[39m.\u001b[39mfeature_types \u001b[39m=\u001b[39m ft\n\u001b[1;32m-> 2747\u001b[0m \u001b[39mself\u001b[39m\u001b[39m.\u001b[39m_validate_features(fn)\n",
      "File \u001b[1;32mc:\\Users\\JUN\\anaconda3\\Lib\\site-packages\\xgboost\\core.py:2754\u001b[0m, in \u001b[0;36mBooster._validate_features\u001b[1;34m(self, feature_names)\u001b[0m\n\u001b[0;32m   2751\u001b[0m     \u001b[39mreturn\u001b[39;00m\n\u001b[0;32m   2753\u001b[0m \u001b[39mif\u001b[39;00m feature_names \u001b[39mis\u001b[39;00m \u001b[39mNone\u001b[39;00m \u001b[39mand\u001b[39;00m \u001b[39mself\u001b[39m\u001b[39m.\u001b[39mfeature_names \u001b[39mis\u001b[39;00m \u001b[39mnot\u001b[39;00m \u001b[39mNone\u001b[39;00m:\n\u001b[1;32m-> 2754\u001b[0m     \u001b[39mraise\u001b[39;00m \u001b[39mValueError\u001b[39;00m(\n\u001b[0;32m   2755\u001b[0m         \u001b[39m\"\u001b[39m\u001b[39mtraining data did not have the following fields: \u001b[39m\u001b[39m\"\u001b[39m\n\u001b[0;32m   2756\u001b[0m         \u001b[39m+\u001b[39m \u001b[39m\"\u001b[39m\u001b[39m, \u001b[39m\u001b[39m\"\u001b[39m\u001b[39m.\u001b[39mjoin(\u001b[39mself\u001b[39m\u001b[39m.\u001b[39mfeature_names)\n\u001b[0;32m   2757\u001b[0m     )\n\u001b[0;32m   2759\u001b[0m \u001b[39mif\u001b[39;00m \u001b[39mself\u001b[39m\u001b[39m.\u001b[39mfeature_names \u001b[39m!=\u001b[39m feature_names:\n\u001b[0;32m   2760\u001b[0m     dat_missing \u001b[39m=\u001b[39m \u001b[39mset\u001b[39m(cast(FeatureNames, \u001b[39mself\u001b[39m\u001b[39m.\u001b[39mfeature_names)) \u001b[39m-\u001b[39m \u001b[39mset\u001b[39m(\n\u001b[0;32m   2761\u001b[0m         cast(FeatureNames, feature_names)\n\u001b[0;32m   2762\u001b[0m     )\n",
      "\u001b[1;31mValueError\u001b[0m: training data did not have the following fields: Age, Female, BMI, Pre_GFR, Location_Pelvis, Location_multiple, HUN, path_T, Path_N, Path_Grade, Path_CIS"
     ]
    }
   ],
   "source": [
    "i = 0  # Example index, make sure this is within the range of your dataset\n",
    "instance = x.values[i]\n",
    "exp = explainer.explain_instance(instance, predict_fn)\n"
   ]
  },
  {
   "cell_type": "code",
   "execution_count": 83,
   "metadata": {},
   "outputs": [
    {
     "ename": "SyntaxError",
     "evalue": "invalid syntax (3530666767.py, line 1)",
     "output_type": "error",
     "traceback": [
      "\u001b[1;36m  Cell \u001b[1;32mIn[83], line 1\u001b[1;36m\u001b[0m\n\u001b[1;33m    ValueError: training data did not have the following fields: Age, Female, BMI, Pre_GFR, Location_Pelvis, Location_multiple, HUN, path_T, Path_N, Path_Grade, Path_CIS\u001b[0m\n\u001b[1;37m                         ^\u001b[0m\n\u001b[1;31mSyntaxError\u001b[0m\u001b[1;31m:\u001b[0m invalid syntax\n"
     ]
    }
   ],
   "source": [
    "ValueError: training data did not have the following fields: Age, Female, BMI, Pre_GFR, Location_Pelvis, Location_multiple, HUN, path_T, Path_N, Path_Grade, Path_CIS\n"
   ]
  }
 ],
 "metadata": {
  "kernelspec": {
   "display_name": "base",
   "language": "python",
   "name": "python3"
  },
  "language_info": {
   "codemirror_mode": {
    "name": "ipython",
    "version": 3
   },
   "file_extension": ".py",
   "mimetype": "text/x-python",
   "name": "python",
   "nbconvert_exporter": "python",
   "pygments_lexer": "ipython3",
   "version": "3.11.3"
  }
 },
 "nbformat": 4,
 "nbformat_minor": 2
}
